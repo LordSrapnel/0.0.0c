{
  "nbformat": 4,
  "nbformat_minor": 0,
  "metadata": {
    "colab": {
      "provenance": [],
      "include_colab_link": true
    },
    "kernelspec": {
      "name": "python3",
      "display_name": "Python 3"
    },
    "language_info": {
      "name": "python"
    },
    "accelerator": "GPU"
  },
  "cells": [
    {
      "cell_type": "markdown",
      "metadata": {
        "id": "view-in-github",
        "colab_type": "text"
      },
      "source": [
        "<a href=\"https://colab.research.google.com/github/LordSrapnel/0.0.0c/blob/main/CatFish_PyTorch_CNN.ipynb\" target=\"_parent\"><img src=\"https://colab.research.google.com/assets/colab-badge.svg\" alt=\"Open In Colab\"/></a>"
      ]
    },
    {
      "cell_type": "code",
      "execution_count": null,
      "metadata": {
        "id": "FI-3kNcQQa2I"
      },
      "outputs": [],
      "source": [
        "# !wget -O images.zip https://www.dropbox.com/s/46j2uy5b41e8c6a/images.zip?dl=0\n",
        "# !unzip images.zip;"
      ]
    },
    {
      "cell_type": "code",
      "source": [
        "import torch\n",
        "import torch.nn as nn\n",
        "import torch.optim as optim\n",
        "import torch.utils.data\n",
        "import torch.nn.functional as F\n",
        "import torchvision\n",
        "from torchvision import transforms\n",
        "from PIL import Image\n",
        "import matplotlib.pyplot as plt\n",
        "%matplotlib inline "
      ],
      "metadata": {
        "id": "4SeEziVZQfkz"
      },
      "execution_count": null,
      "outputs": []
    },
    {
      "cell_type": "code",
      "source": [
        "class CNNNet(nn.Module):\n",
        "\n",
        "    def __init__(self, num_classes=2):\n",
        "        super(CNNNet, self).__init__()\n",
        "        self.features = nn.Sequential(\n",
        "            # 3 - число каналов(только на первом слою), 64 - число фильтров\n",
        "            # kernel_size - размер ядра, stride - шаг, padding - число строк и столбцов с 0\n",
        "            nn.Conv2d(3, 64, kernel_size=11, stride=4, padding=2),\n",
        "            # функция активации релу max(0,x)\n",
        "            nn.ReLU(),\n",
        "            nn.MaxPool2d(kernel_size=3, stride=2),\n",
        "            nn.Conv2d(64, 192, kernel_size=5, padding=2),\n",
        "            nn.ReLU(),\n",
        "            nn.MaxPool2d(kernel_size=3, stride=2),\n",
        "            nn.Conv2d(192, 384, kernel_size=3, padding=1),\n",
        "            nn.ReLU(),\n",
        "            nn.Conv2d(384, 256, kernel_size=3, padding=1),\n",
        "            nn.ReLU(),\n",
        "            nn.Conv2d(256, 256, kernel_size=3, padding=1),\n",
        "            nn.ReLU(),\n",
        "            nn.MaxPool2d(kernel_size=3, stride=2),\n",
        "        )\n",
        "        # AdaptiveAvgPool2d - позволяет подогнать под заданный размер с помощью подвыборки\n",
        "        self.avgpool = nn.AdaptiveAvgPool2d((6, 6))\n",
        "        self.classifier = nn.Sequential(\n",
        "            nn.Dropout(),\n",
        "            # Linear полносвязный слой, первый аргумент число входов, второй число нейронов\n",
        "            nn.Linear(256 * 6 * 6, 4096),\n",
        "            nn.ReLU(),\n",
        "            nn.Dropout(),\n",
        "            nn.Linear(4096, 4096),\n",
        "            nn.ReLU(),\n",
        "            nn.Linear(4096, num_classes)\n",
        "        )\n",
        "    \n",
        "    def forward(self, x):\n",
        "        x = self.features(x)\n",
        "        x = self.avgpool(x)\n",
        "        # torch.flatten плоский слой, матрицу в вектор\n",
        "        x = torch.flatten(x, 1)\n",
        "        x = self.classifier(x)\n",
        "        return x\n",
        "\n"
      ],
      "metadata": {
        "id": "NtBZHb9dQnbe"
      },
      "execution_count": null,
      "outputs": []
    },
    {
      "cell_type": "code",
      "source": [
        "cnnnet = CNNNet()"
      ],
      "metadata": {
        "id": "sXkRRjTEQn8D"
      },
      "execution_count": null,
      "outputs": []
    },
    {
      "cell_type": "code",
      "source": [
        "def train(model, optimizer, loss_fn, train_loader, val_loader, epochs=20, device=\"cpu\"):\n",
        "  x=range(1,epochs+1)\n",
        "  y_train_loss=[]\n",
        "  y_val_loss=[]\n",
        "\n",
        "  for epoch in range(1, epochs+1):\n",
        "      # счетчик ошибки\n",
        "      training_loss = 0.0\n",
        "      valid_loss = 0.0\n",
        "      model.train()\n",
        "      for batch in train_loader:\n",
        "        # цикл мини выборки для тренировочного набора данных\n",
        "        # Оптимизатор обнуление градиента\n",
        "          optimizer.zero_grad()\n",
        "          # выгрузка входов и выходов из батча\n",
        "          inputs, targets = batch\n",
        "          # загружаем данные в озу выбранного устройства\n",
        "          inputs = inputs.to(device)\n",
        "          targets = targets.to(device)\n",
        "          # прогон через нейросеть\n",
        "          output = model(inputs)\n",
        "          # нахождение потери с помощью функции потери\n",
        "          loss = loss_fn(output, targets)\n",
        "          # обратное распростронение ошибки\n",
        "          loss.backward()\n",
        "          # шаг оптимизатора\n",
        "          optimizer.step()\n",
        "          # добавить ошибку на батче к общей ошибке на эпохе\n",
        "          training_loss += loss.data.item() * inputs.size(0)\n",
        "      # находим среднюю ошибку\n",
        "      training_loss /= len(train_loader.dataset)\n",
        "      \n",
        "      model.eval()\n",
        "      num_correct = 0 \n",
        "      num_examples = 0\n",
        "      for batch in val_loader:\n",
        "          inputs, targets = batch\n",
        "          inputs = inputs.to(device)\n",
        "          output = model(inputs)\n",
        "          targets = targets.to(device)\n",
        "          loss = loss_fn(output,targets) \n",
        "          valid_loss += loss.data.item() * inputs.size(0)\n",
        "          # Считаем долю правельных ответов (для задач классификации)\n",
        "          correct = torch.eq(torch.max(F.softmax(output, dim=1), dim=1)[1],\n",
        "                              targets)\n",
        "          num_correct += torch.sum(correct).item()\n",
        "          num_examples += correct.shape[0]\n",
        "      valid_loss /= len(val_loader.dataset)\n",
        "\n",
        "      # добавление потерь для графика\n",
        "      y_train_loss.append(training_loss)\n",
        "      y_val_loss.append(valid_loss)\n",
        "      # вывод на экран\n",
        "      print('Epoch: {}, Training Loss: {:.2f}, Validation Loss: {:.2f}, val_accuracy = {:.2f}'.format(epoch, training_loss,\n",
        "      valid_loss, num_correct / num_examples))\n",
        "  return x,y_train_loss,y_val_loss"
      ],
      "metadata": {
        "id": "2CXSblpWQpXU"
      },
      "execution_count": null,
      "outputs": []
    },
    {
      "cell_type": "code",
      "source": [
        "def check_image(path):\n",
        "  # Проверка изображения\n",
        "    try:\n",
        "        im = Image.open(path)\n",
        "        return True\n",
        "    except:\n",
        "        return False\n",
        "# трансформер изображения (нормализация) mean и std из imageNet\n",
        "img_transforms = transforms.Compose([\n",
        "    transforms.Resize((64,64)),    \n",
        "    transforms.ToTensor(),\n",
        "    transforms.Normalize(mean=[0.485, 0.456, 0.406],\n",
        "                         std=[0.229, 0.224, 0.225])\n",
        "    ])\n",
        "# Подготовка загрузчиков\n",
        "train_data_path = \"./train/\"\n",
        "train_data = torchvision.datasets.ImageFolder(root=train_data_path,transform=img_transforms, is_valid_file=check_image)\n",
        "val_data_path = \"./val/\"\n",
        "val_data = torchvision.datasets.ImageFolder(root=val_data_path,transform=img_transforms, is_valid_file=check_image)\n",
        "batch_size=64\n",
        "# батч сайз размер мини выборки, отвечает за то сколько фоток за раз грузим\n",
        "# shuffle - перемешать фай\n",
        "train_data_loader = torch.utils.data.DataLoader(train_data, batch_size=batch_size,shuffle=True)\n",
        "val_data_loader  = torch.utils.data.DataLoader(val_data, batch_size=batch_size, shuffle=True)\n",
        "\n",
        "# выбор устройсва\n",
        "if torch.cuda.is_available():\n",
        "    device = torch.device(\"cuda\") \n",
        "else:\n",
        "    device = torch.device(\"cpu\")"
      ],
      "metadata": {
        "id": "1cSKK--aQriY"
      },
      "execution_count": null,
      "outputs": []
    },
    {
      "cell_type": "code",
      "source": [
        "cnnnet.to(device)\n",
        "# оптимизатор Adam с скоростью обучения 0.001\n",
        "optimizer = optim.Adam(cnnnet.parameters(), lr=0.001)"
      ],
      "metadata": {
        "id": "nYxn31SrQwMN"
      },
      "execution_count": null,
      "outputs": []
    },
    {
      "cell_type": "code",
      "source": [
        "x, y_train,y_val=train(cnnnet, #экземпляр сети\n",
        "                       optimizer, #экземпляр оптимизатора\n",
        "                       torch.nn.CrossEntropyLoss(), # функция потери\n",
        "                       train_data_loader,val_data_loader, # данные (трейн и вайл)\n",
        "                       epochs=10, device=device\n",
        "                       )"
      ],
      "metadata": {
        "colab": {
          "base_uri": "https://localhost:8080/"
        },
        "id": "in8CobDkQxrL",
        "outputId": "1b60bfd8-e3c5-488b-ac04-d8e342c17889"
      },
      "execution_count": null,
      "outputs": [
        {
          "output_type": "stream",
          "name": "stdout",
          "text": [
            "Epoch: 1, Training Loss: 0.36, Validation Loss: 0.41, val_accuracy = 0.82\n",
            "Epoch: 2, Training Loss: 0.32, Validation Loss: 0.31, val_accuracy = 0.85\n",
            "Epoch: 3, Training Loss: 0.28, Validation Loss: 0.96, val_accuracy = 0.62\n",
            "Epoch: 4, Training Loss: 0.28, Validation Loss: 0.56, val_accuracy = 0.78\n",
            "Epoch: 5, Training Loss: 0.30, Validation Loss: 0.41, val_accuracy = 0.76\n",
            "Epoch: 6, Training Loss: 0.27, Validation Loss: 0.52, val_accuracy = 0.71\n",
            "Epoch: 7, Training Loss: 0.23, Validation Loss: 0.88, val_accuracy = 0.68\n",
            "Epoch: 8, Training Loss: 0.20, Validation Loss: 1.25, val_accuracy = 0.64\n",
            "Epoch: 9, Training Loss: 0.30, Validation Loss: 0.48, val_accuracy = 0.76\n",
            "Epoch: 10, Training Loss: 0.23, Validation Loss: 0.94, val_accuracy = 0.64\n"
          ]
        }
      ]
    },
    {
      "cell_type": "code",
      "source": [
        "plt.plot(x,y_train, \n",
        "         label='Ошибка на обучающем наборе')\n",
        "plt.plot(x,y_val, \n",
        "         label='Ошибка на проверочном наборе')\n",
        "plt.xlabel('Эпоха обучения')\n",
        "plt.ylabel('Ошибка')\n",
        "plt.legend()\n",
        "plt.show()"
      ],
      "metadata": {
        "colab": {
          "base_uri": "https://localhost:8080/",
          "height": 279
        },
        "id": "aqhk8bt1SVK-",
        "outputId": "90733d7f-2775-46c5-b6a9-f15bf65e5e10"
      },
      "execution_count": null,
      "outputs": [
        {
          "output_type": "display_data",
          "data": {
            "text/plain": [
              "<Figure size 432x288 with 1 Axes>"
            ],
            "image/png": "[encoded data removed]"
          },
          "metadata": {
            "needs_background": "light"
          }
        }
      ]
    }
  ]
}